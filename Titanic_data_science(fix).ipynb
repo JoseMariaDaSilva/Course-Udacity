{
 "cells": [
  {
   "cell_type": "markdown",
   "metadata": {},
   "source": [
    "**Titanic_data.csv** ~>https://www.kaggle.com/c/titanic\n",
    "\n",
    "O data_set é a respeito da tragédia que aconteceu em 15 de abril de 1912, durante uma viagem inaugural.\n",
    "O Titanic afundou após colidir com um iceberg, matando 1502 de 2224 passageiros e tripulantes,o data_set consiste de 891 amostras.\n",
    "    \n",
    "**-----------------PARAMETROS----------------------------------**\n",
    "\n",
    "**Passengerid:** parametros de indexação de cada passageiro.\n",
    "\n",
    "**Surived:** indica se o tripulante sobreviveu, 1=sim 0=não.\n",
    "\n",
    "**Name:** nome do tripulante.\n",
    "\n",
    "**Sex:** genero do passageiro.\n",
    "\n",
    "**Age:** idade do passageiro.\n",
    "\n",
    "**SibSp:** número de irmãos / cônjuges a bordo do titanic.\n",
    "\n",
    "**Parch:** número de pais / filhos a bordo do titanic. Algumas crianças viajaram apenas com uma babá, portanto parch = 0 para elas.\n",
    "\n",
    "**ticket:** ticket do tripulante.\n",
    "\n",
    "**Fare:** tarifa dos passageiros.\n",
    "\n",
    "**Cabin:** cabine onde o passageiro esta alocado.\n",
    "\n",
    "**Embarked:** porto de desembarque do passageiro.\n",
    "\n"
   ]
  },
  {
   "cell_type": "markdown",
   "metadata": {},
   "source": [
    "# Conclusões e informações visuais\n",
    "\n",
    "Tirando conclusões com base nas informações!.\n",
    "\n",
    "**P1:** Quais são as caracteristicas dos passageiros sobrevivente? tem haver com a classe socioeconomica?\n",
    "\n",
    "**P2:** Qual a idade média e sua proporção de crianças e adolescentes que viajaram com babá ou irmãos ?\n",
    "\n",
    "**P3:** O maior fluxo de passageiros da 1° classe se obtem apartir de qual porto de desembarque? E da 3° classe?\n"
   ]
  },
  {
   "cell_type": "markdown",
   "metadata": {},
   "source": [
    "# Importando dados Titanic\n",
    "**importação dos modulos a serem usado e do arquivo_data.csv**"
   ]
  },
  {
   "cell_type": "code",
   "execution_count": 4,
   "metadata": {},
   "outputs": [],
   "source": [
    "import pandas as pd\n",
    "import matplotlib.pyplot as plt\n",
    "%matplotlib inline\n",
    "import numpy as np\n",
    "\n",
    "df_t = pd.read_csv(\"titanic_data.csv\")\n"
   ]
  },
  {
   "cell_type": "markdown",
   "metadata": {},
   "source": [
    "## Exploração dos dados\n",
    "**visualização dos dados para analisar valores a serem tranformados e reparados do data_set**"
   ]
  },
  {
   "cell_type": "code",
   "execution_count": 5,
   "metadata": {
    "scrolled": false
   },
   "outputs": [
    {
     "name": "stdout",
     "output_type": "stream",
     "text": [
      "<class 'pandas.core.frame.DataFrame'>\n",
      "RangeIndex: 891 entries, 0 to 890\n",
      "Data columns (total 12 columns):\n",
      "PassengerId    891 non-null int64\n",
      "Survived       891 non-null int64\n",
      "Pclass         891 non-null int64\n",
      "Name           891 non-null object\n",
      "Sex            891 non-null object\n",
      "Age            714 non-null float64\n",
      "SibSp          891 non-null int64\n",
      "Parch          891 non-null int64\n",
      "Ticket         891 non-null object\n",
      "Fare           891 non-null float64\n",
      "Cabin          204 non-null object\n",
      "Embarked       889 non-null object\n",
      "dtypes: float64(2), int64(5), object(5)\n",
      "memory usage: 83.6+ KB\n"
     ]
    },
    {
     "data": {
      "text/html": [
       "<div>\n",
       "<style scoped>\n",
       "    .dataframe tbody tr th:only-of-type {\n",
       "        vertical-align: middle;\n",
       "    }\n",
       "\n",
       "    .dataframe tbody tr th {\n",
       "        vertical-align: top;\n",
       "    }\n",
       "\n",
       "    .dataframe thead th {\n",
       "        text-align: right;\n",
       "    }\n",
       "</style>\n",
       "<table border=\"1\" class=\"dataframe\">\n",
       "  <thead>\n",
       "    <tr style=\"text-align: right;\">\n",
       "      <th></th>\n",
       "      <th>PassengerId</th>\n",
       "      <th>Survived</th>\n",
       "      <th>Pclass</th>\n",
       "      <th>Name</th>\n",
       "      <th>Sex</th>\n",
       "      <th>Age</th>\n",
       "      <th>SibSp</th>\n",
       "      <th>Parch</th>\n",
       "      <th>Ticket</th>\n",
       "      <th>Fare</th>\n",
       "      <th>Cabin</th>\n",
       "      <th>Embarked</th>\n",
       "    </tr>\n",
       "  </thead>\n",
       "  <tbody>\n",
       "    <tr>\n",
       "      <th>0</th>\n",
       "      <td>1</td>\n",
       "      <td>0</td>\n",
       "      <td>3</td>\n",
       "      <td>Braund, Mr. Owen Harris</td>\n",
       "      <td>male</td>\n",
       "      <td>22.0</td>\n",
       "      <td>1</td>\n",
       "      <td>0</td>\n",
       "      <td>A/5 21171</td>\n",
       "      <td>7.2500</td>\n",
       "      <td>NaN</td>\n",
       "      <td>S</td>\n",
       "    </tr>\n",
       "    <tr>\n",
       "      <th>1</th>\n",
       "      <td>2</td>\n",
       "      <td>1</td>\n",
       "      <td>1</td>\n",
       "      <td>Cumings, Mrs. John Bradley (Florence Briggs Th...</td>\n",
       "      <td>female</td>\n",
       "      <td>38.0</td>\n",
       "      <td>1</td>\n",
       "      <td>0</td>\n",
       "      <td>PC 17599</td>\n",
       "      <td>71.2833</td>\n",
       "      <td>C85</td>\n",
       "      <td>C</td>\n",
       "    </tr>\n",
       "    <tr>\n",
       "      <th>2</th>\n",
       "      <td>3</td>\n",
       "      <td>1</td>\n",
       "      <td>3</td>\n",
       "      <td>Heikkinen, Miss. Laina</td>\n",
       "      <td>female</td>\n",
       "      <td>26.0</td>\n",
       "      <td>0</td>\n",
       "      <td>0</td>\n",
       "      <td>STON/O2. 3101282</td>\n",
       "      <td>7.9250</td>\n",
       "      <td>NaN</td>\n",
       "      <td>S</td>\n",
       "    </tr>\n",
       "    <tr>\n",
       "      <th>3</th>\n",
       "      <td>4</td>\n",
       "      <td>1</td>\n",
       "      <td>1</td>\n",
       "      <td>Futrelle, Mrs. Jacques Heath (Lily May Peel)</td>\n",
       "      <td>female</td>\n",
       "      <td>35.0</td>\n",
       "      <td>1</td>\n",
       "      <td>0</td>\n",
       "      <td>113803</td>\n",
       "      <td>53.1000</td>\n",
       "      <td>C123</td>\n",
       "      <td>S</td>\n",
       "    </tr>\n",
       "    <tr>\n",
       "      <th>4</th>\n",
       "      <td>5</td>\n",
       "      <td>0</td>\n",
       "      <td>3</td>\n",
       "      <td>Allen, Mr. William Henry</td>\n",
       "      <td>male</td>\n",
       "      <td>35.0</td>\n",
       "      <td>0</td>\n",
       "      <td>0</td>\n",
       "      <td>373450</td>\n",
       "      <td>8.0500</td>\n",
       "      <td>NaN</td>\n",
       "      <td>S</td>\n",
       "    </tr>\n",
       "  </tbody>\n",
       "</table>\n",
       "</div>"
      ],
      "text/plain": [
       "   PassengerId  Survived  Pclass  \\\n",
       "0            1         0       3   \n",
       "1            2         1       1   \n",
       "2            3         1       3   \n",
       "3            4         1       1   \n",
       "4            5         0       3   \n",
       "\n",
       "                                                Name     Sex   Age  SibSp  \\\n",
       "0                            Braund, Mr. Owen Harris    male  22.0      1   \n",
       "1  Cumings, Mrs. John Bradley (Florence Briggs Th...  female  38.0      1   \n",
       "2                             Heikkinen, Miss. Laina  female  26.0      0   \n",
       "3       Futrelle, Mrs. Jacques Heath (Lily May Peel)  female  35.0      1   \n",
       "4                           Allen, Mr. William Henry    male  35.0      0   \n",
       "\n",
       "   Parch            Ticket     Fare Cabin Embarked  \n",
       "0      0         A/5 21171   7.2500   NaN        S  \n",
       "1      0          PC 17599  71.2833   C85        C  \n",
       "2      0  STON/O2. 3101282   7.9250   NaN        S  \n",
       "3      0            113803  53.1000  C123        S  \n",
       "4      0            373450   8.0500   NaN        S  "
      ]
     },
     "execution_count": 5,
     "metadata": {},
     "output_type": "execute_result"
    }
   ],
   "source": [
    "df_t.head()\n",
    "df_t.describe()\n",
    "df_t.shape\n",
    "df_t.info()\n",
    "df_t.head()"
   ]
  },
  {
   "cell_type": "markdown",
   "metadata": {},
   "source": [
    "# Limpeza dos dados"
   ]
  },
  {
   "cell_type": "markdown",
   "metadata": {},
   "source": [
    "**Criação de uma função onde irá conter todos os processo para limpar o conjunto de dados.**\n",
    "\n",
    "\n",
    "\n",
    "  **global def_t:** coloca o dataframe no escopo global para que nao seja necessario a utilização dele dentro da função.\n",
    "  \n",
    "  **new_columns = [ df.lower() for df in df_t.columns ]:** converte as colunas para que fiquem com letras minusculas.\n",
    "  \n",
    "  **df_t.columns = new_columns # Salva a coluna do dataframe:** salva as colunas convertidas para atribuir no conjunto de dados.\n",
    "  \n",
    "  **df_t = df_t.drop(f\"{column_remove}\",axis=1):** remove a coluna que contem uma contagem alta de valores faltando que nao sejam facil de recuperar.\n",
    "  \n",
    "  **df_age_mean = df_t[f'{column_fill}'].mean():** cria uma variavel para armazenar a média de idades da coluna.\n",
    "  \n",
    "  **df_t[f'{column_fill}'] = df_t[f'{column_fill}'].fillna(round(df_age_mean)):** preenche os valores \"NaN\" da coluna com a média calculada.\n",
    "  \n",
    "  **df_t = df_t.dropna():** remove as linhas restante que contem valores \"NaN\".\n",
    "  \n",
    "  **df_t[f'{column_fill}'] = df_t[f'{column_fill}'].astype(int):** converte a coluna que esta com numeros inteiros do tipo flutuante.\n",
    "  \n",
    "  **return df_t.info():** retorna as informações para a função mostrando que foi alterado."
   ]
  },
  {
   "cell_type": "code",
   "execution_count": 6,
   "metadata": {
    "collapsed": true
   },
   "outputs": [
    {
     "name": "stdout",
     "output_type": "stream",
     "text": [
      "<class 'pandas.core.frame.DataFrame'>\n",
      "Int64Index: 889 entries, 0 to 890\n",
      "Data columns (total 11 columns):\n",
      "passengerid    889 non-null int64\n",
      "survived       889 non-null int64\n",
      "pclass         889 non-null int64\n",
      "name           889 non-null object\n",
      "sex            889 non-null object\n",
      "age            889 non-null int32\n",
      "sibsp          889 non-null int64\n",
      "parch          889 non-null int64\n",
      "ticket         889 non-null object\n",
      "fare           889 non-null float64\n",
      "embarked       889 non-null object\n",
      "dtypes: float64(1), int32(1), int64(5), object(4)\n",
      "memory usage: 79.9+ KB\n"
     ]
    }
   ],
   "source": [
    "def clean_data(column_remove,column_fill):\n",
    "    global df_t \n",
    "    new_columns = [df.lower() for df in df_t.columns]\n",
    "    df_t.columns = new_columns \n",
    "    df_t = df_t.drop(f\"{column_remove}\",axis=1) \n",
    "    df_age_mean = df_t[f'{column_fill}'].mean()\n",
    "    df_t[f'{column_fill}'] = df_t[f'{column_fill}'].fillna(round(df_age_mean)) \n",
    "    df_t = df_t.dropna()\n",
    "    df_t[f'{column_fill}'] = df_t[f'{column_fill}'].astype(int)\n",
    "    return df_t.info()\n",
    "\n",
    "clean_data(\"cabin\",\"age\")"
   ]
  },
  {
   "cell_type": "markdown",
   "metadata": {},
   "source": [
    "**Criação de uma função para criar uma coluna para facilitar no questionamento do conjunto de dados.**\n",
    "\n",
    "**global df_t:** Coloca o nomo do dataframe no espaço global\n",
    "    \n",
    "    \n",
    "**dfa = df_t.query(f'{column_base} > 18').copy():** Cria uma copia do dataframe\n",
    "    \n",
    "    \n",
    "**dfk = df_t.query(f'{column_base} < 12').copy():** Cria uma copia do dataframe \n",
    "    \n",
    "    \n",
    "**dft = df_t.query(f'{column_base} >= 12 and {column_base} <= 18').copy():** Cria uma copia do dataframe\n",
    "    \n",
    "    \n",
    "**dfa.loc[:,'aclass'] = np.repeat('adult',dfa.shape[0]):** Cria uma coluna \"aclass\" com amostras repetidas de \"adult\"\n",
    "    \n",
    "    \n",
    "**dfk.loc[:,'aclass'] = np.repeat('kid',dfk.shape[0]):** Cria uma coluna \"aclass\" com amostras repetidas de \"adult\"\n",
    "    \n",
    "    \n",
    "**dft.loc[:,'aclass'] = np.repeat('teen',dft.shape[0]):** Cria uma coluna \"aclass\" com amostras repetidas de \"adult\"\n",
    "    \n",
    "    \n",
    "**dfs = dfk.append(dft):** Junta 2 copias do dataframe e armazena em um objeto\n",
    "    \n",
    "    \n",
    "**df_t = dfs.append(dfa):** Junta 2 copias do dataframe e armazena em um objeto\n",
    "    \n",
    "    \n",
    "**return df_t.info():** Retorna as informações do dataframe"
   ]
  },
  {
   "cell_type": "code",
   "execution_count": 53,
   "metadata": {
    "collapsed": true
   },
   "outputs": [
    {
     "name": "stdout",
     "output_type": "stream",
     "text": [
      "<class 'pandas.core.frame.DataFrame'>\n",
      "Int64Index: 889 entries, 7 to 890\n",
      "Data columns (total 12 columns):\n",
      "passengerid    889 non-null int64\n",
      "survived       889 non-null int64\n",
      "pclass         889 non-null int64\n",
      "name           889 non-null object\n",
      "sex            889 non-null object\n",
      "age            889 non-null int32\n",
      "sibsp          889 non-null int64\n",
      "parch          889 non-null int64\n",
      "ticket         889 non-null object\n",
      "fare           889 non-null float64\n",
      "embarked       889 non-null object\n",
      "aclass         889 non-null object\n",
      "dtypes: float64(1), int32(1), int64(5), object(5)\n",
      "memory usage: 86.8+ KB\n"
     ]
    }
   ],
   "source": [
    "def create_column(column_base): \n",
    "    global df_t \n",
    "    dfa = df_t.query(f'{column_base} > 18').copy()\n",
    "    dfk = df_t.query(f'{column_base} < 12').copy() \n",
    "    dft = df_t.query(f'{column_base} >= 12 and {column_base} <= 18').copy() \n",
    "    dfa.loc[:,'aclass'] = np.repeat('adult',dfa.shape[0]) \n",
    "    dfk.loc[:,'aclass'] = np.repeat('kid',dfk.shape[0]) \n",
    "    dft.loc[:,'aclass'] = np.repeat('teen',dft.shape[0]) \n",
    "    dfs = dfk.append(dft)\n",
    "    df_t = dfs.append(dfa)\n",
    "    return df_t.info()\n",
    "\n",
    "create_column('age')"
   ]
  },
  {
   "cell_type": "markdown",
   "metadata": {},
   "source": [
    "# Configuração para plotagem de graficos\n",
    "\n",
    "Criação de uma função para facilitar a plotagem de graficos de acordo com as condições e parametros necessarios, facilitando o manuseio do codigo e evitando repetições de funções.\n",
    "\n",
    "**search_data():** Filtragrem do dataframe de acordo com a função.\n",
    "\n",
    "**plotti():** Função para criação de grafico de barra e pizza de acordo com os parametros."
   ]
  },
  {
   "cell_type": "code",
   "execution_count": 54,
   "metadata": {},
   "outputs": [
    {
     "name": "stdout",
     "output_type": "stream",
     "text": [
      "Survived: 340\n",
      "No survived: 549\n"
     ]
    }
   ],
   "source": [
    "def search_data(what):\n",
    "    global df_t # coloca o nomo do dataframe no espaço global\n",
    "    return df_t.query(f'{what}') # Retorna um dataframe filtrado\n",
    "\n",
    "survive = search_data('survived == 1') # Armazena no objeto survive o dataframe filtrado\n",
    "dead = search_data('survived == 0') # Armazena no objeto dead o dataframe filtrado\n",
    "print(f'Survived: {survive[\"survived\"].sum()}\\nNo survived: {dead[\"survived\"].count()}')\n",
    "\n",
    "def plotti(pit = df_t,kind='hist',column_list=[],x= False,legend=False,ylabel = 'put_ylabel',title='put_title',column_pie=\"pclass\",xlabel='put_xlabel',lab = ['1','2','3']):\n",
    "    global df_t# coloca o nomo do dataframe no espaço global\n",
    "    \n",
    "    if x == 'mean':\n",
    "        plt.ylabel(f'{ylabel}');# plota o label do eixo y\n",
    "        return pit.groupby(column_list[:1]).mean()[column_list[-1]].plot(kind=f'{kind}',title = f'{title}'); # plota um grafico\n",
    "    \n",
    "    elif x == 'count': # condição para usar uma função de contagem\n",
    "        plt.ylabel(f'{ylabel}');# plota o label do eixo y\n",
    "        return pit.groupby(column_list[:1]).count()[column_list[-1]].plot(kind=f'{kind}',title = f'{title}'); # plota um grafico\n",
    "    \n",
    "    elif x == 'sum':# condição para usar uma função de soma\n",
    "        plt.ylabel(f'{ylabel}');# plota o label do eixo y\n",
    "        return pit.groupby(column_list[:1]).sum()[column_list[-1]].plot(kind=f'{kind}',title = f'{title}');# plota um grafico\n",
    "    \n",
    "    elif x == 'pie':# condição para usar uma função\n",
    "        return pit[f'{column_pie}'].value_counts(normalize='True').plot(kind='pie',autopct='%1.1f%%',labels = lab,title=f'{title}');#plotagem do grafico tipo pizza\n",
    "    \n"
   ]
  },
  {
   "cell_type": "markdown",
   "metadata": {},
   "source": [
    "# Conclusões e informações visuais"
   ]
  },
  {
   "cell_type": "markdown",
   "metadata": {},
   "source": [
    "**P1:** Quais são as caracteristicas dos passageiros sobrevivente?"
   ]
  },
  {
   "cell_type": "code",
   "execution_count": 52,
   "metadata": {},
   "outputs": [
    {
     "data": {
      "text/plain": [
       "sex\n",
       "female    231\n",
       "male      109\n",
       "Name: pclass, dtype: int64"
      ]
     },
     "execution_count": 52,
     "metadata": {},
     "output_type": "execute_result"
    },
    {
     "data": {
      "image/png": "[encoded data removed]",
      "text/plain": [
       "<matplotlib.figure.Figure at 0x24ab11af828>"
      ]
     },
     "metadata": {},
     "output_type": "display_data"
    }
   ],
   "source": [
    "\n",
    "plotti(x='pie',pit=survive,column_pie='pclass',lab=['1st class','2st class','3st class'],title='CLass survived percent')\n",
    "plt.legend(loc='upper left')\n",
    "survive.groupby(['sex']).count()['pclass']#FIltragem de classes economica pela faixa etaria, separados pelo genero.\n"
   ]
  },
  {
   "cell_type": "markdown",
   "metadata": {},
   "source": [
    "Esta informação grafica contem uma analise do conjunto de dados do Titanic_data, a respeito de uma relação com a classe socioeconomica dos passageiros sobreviventes, onde relata a porcentagem do volume da classe mais sucetiva a sobreviver, onde será a de primeira classe e segunda classe, que contem uma maior porcentagem."
   ]
  },
  {
   "cell_type": "code",
   "execution_count": 10,
   "metadata": {},
   "outputs": [
    {
     "data": {
      "text/plain": [
       "aclass\n",
       "adult    270\n",
       "kid       39\n",
       "teen      31\n",
       "Name: sex, dtype: int64"
      ]
     },
     "execution_count": 10,
     "metadata": {},
     "output_type": "execute_result"
    }
   ],
   "source": [
    "survive.groupby(['aclass']).count()['sex']# separa grupo da classe faixa etaria contando por genero dos passageiros"
   ]
  },
  {
   "cell_type": "code",
   "execution_count": 11,
   "metadata": {
    "scrolled": true
   },
   "outputs": [
    {
     "data": {
      "text/plain": [
       "sex\n",
       "female    29.0\n",
       "male      28.0\n",
       "Name: age, dtype: float64"
      ]
     },
     "execution_count": 11,
     "metadata": {},
     "output_type": "execute_result"
    }
   ],
   "source": [
    "round(survive.groupby(['sex']).mean()['age'])# arredonda o valor da média de idade por generos"
   ]
  },
  {
   "cell_type": "markdown",
   "metadata": {},
   "source": [
    "R1: Passageiros de classes altas e médias do genero feminino com idade média de 29 anos.\n"
   ]
  },
  {
   "cell_type": "markdown",
   "metadata": {
    "scrolled": true
   },
   "source": [
    "**P2:** Qual a idade média e sua proporção de crianças e adolescentes que viajaram com babá ou irmãos ?"
   ]
  },
  {
   "cell_type": "code",
   "execution_count": 12,
   "metadata": {},
   "outputs": [
    {
     "data": {
      "text/plain": [
       "<matplotlib.axes._subplots.AxesSubplot at 0x24ab0bf2208>"
      ]
     },
     "execution_count": 12,
     "metadata": {},
     "output_type": "execute_result"
    },
    {
     "data": {
      "image/png": "[encoded data removed]",
      "text/plain": [
       "<matplotlib.figure.Figure at 0x24aadd7b2b0>"
      ]
     },
     "metadata": {},
     "output_type": "display_data"
    }
   ],
   "source": [
    "prop_passenger = search_data('parch == 0 and age < 18')# filtrar passageiros de idade baixa sem a presença dos pais\n",
    "plotti(pit=prop_passenger,kind='bar',column_list =['aclass','age'],x='count',title='Proporção X passageiros',ylabel='N° Passageiros')"
   ]
  },
  {
   "cell_type": "markdown",
   "metadata": {},
   "source": [
    "Este histograma relata a proporção de crianças e adolescente que viajaram sem a presença dos pais, relatando que poucas crianças viajaram com as babás"
   ]
  },
  {
   "cell_type": "code",
   "execution_count": 13,
   "metadata": {},
   "outputs": [
    {
     "data": {
      "text/plain": [
       "aclass\n",
       "kid      8.0\n",
       "teen    16.0\n",
       "Name: age, dtype: float64"
      ]
     },
     "execution_count": 13,
     "metadata": {},
     "output_type": "execute_result"
    }
   ],
   "source": [
    "round(prop_passenger.groupby(['aclass']).mean()['age'])# criar um grupo com a média de idades por proporção de faixa etaria baixa"
   ]
  },
  {
   "cell_type": "markdown",
   "metadata": {},
   "source": [
    "R2: Passageiros de faixa etaria baixa e média que viajaram sem os pais totalizam 32 com idade média de 8 para crianças e 16 para adolescentes."
   ]
  },
  {
   "cell_type": "markdown",
   "metadata": {},
   "source": [
    "**P3:** O maior fluxo de passageiros da 1° classe se obtem apartir de qual porto de desembarque? E da 3° classe?"
   ]
  },
  {
   "cell_type": "code",
   "execution_count": 48,
   "metadata": {},
   "outputs": [
    {
     "data": {
      "text/plain": [
       "embarked  pclass\n",
       "C         1          85\n",
       "          2          17\n",
       "          3          66\n",
       "Q         1           2\n",
       "          2           3\n",
       "          3          72\n",
       "S         1         127\n",
       "          2         164\n",
       "          3         353\n",
       "Name: passengerid, dtype: int64"
      ]
     },
     "execution_count": 48,
     "metadata": {},
     "output_type": "execute_result"
    },
    {
     "data": {
      "image/png": "[encoded data removed]",
      "text/plain": [
       "<matplotlib.figure.Figure at 0x24ab128a048>"
      ]
     },
     "metadata": {},
     "output_type": "display_data"
    }
   ],
   "source": [
    "# criar um grupo com o porto de desembarque para serem contados por id(unidade) de passageiros.\n",
    "colored = ['red','yellow','green','red','yellow','green','red','yellow','green']# define a cor de cada barra\n",
    "df_t.groupby(['embarked','pclass']).count()['passengerid'].plot(kind='bar',title='Fluxo de desembarque / Classe economica',color=colored);\n",
    "plt.ylabel('N° Passageiros');# renomeia o eixo y do grafico\n",
    "df_t.groupby(['embarked','pclass']).count()['passengerid']"
   ]
  },
  {
   "cell_type": "markdown",
   "metadata": {},
   "source": [
    "Este histograma apresenta uma comparação do fluxo de passageiros pelos portos de desembarque, onde indica que existe uma diferença socioeconomica para cada porto"
   ]
  },
  {
   "cell_type": "markdown",
   "metadata": {},
   "source": [
    "R3: O maior fluxo de passageiros da 1° classe se obtem dos portos de Cherbourg(C) e Southampton(S). O maior fluxo de passageiros da 3° classe se obtem no porto de Southampton(S).\n",
    "    "
   ]
  },
  {
   "cell_type": "markdown",
   "metadata": {},
   "source": [
    "**P4:** Quais são os fatores que muitos passageiros perdessem a vida?"
   ]
  },
  {
   "cell_type": "code",
   "execution_count": 50,
   "metadata": {},
   "outputs": [
    {
     "data": {
      "text/plain": [
       "Text(0,0.5,'N° de passageiros')"
      ]
     },
     "execution_count": 50,
     "metadata": {},
     "output_type": "execute_result"
    },
    {
     "data": {
      "image/png": "[encoded data removed]",
      "text/plain": [
       "<matplotlib.figure.Figure at 0x24ab12af7f0>"
      ]
     },
     "metadata": {},
     "output_type": "display_data"
    }
   ],
   "source": [
    "coloril = ['blue','blue','green','green','yellow','yellow']\n",
    "dead.groupby(['pclass','sex']).count()['aclass'].plot(kind='bar',title='Relação Nao sobreviventes / class economica',color = coloril);\n",
    "plt.ylabel('N° de passageiros')"
   ]
  },
  {
   "cell_type": "markdown",
   "metadata": {},
   "source": [
    "Este histograma relata uma contagem de passageiros que nao sobreviveram em relação a classe socioeconomica, indicando que passageiros de terceira classe do genero masculino, nao foram beneficiados por motivos de nao houver bote o suficiente e por serem de baixa classe"
   ]
  },
  {
   "cell_type": "code",
   "execution_count": 16,
   "metadata": {},
   "outputs": [
    {
     "data": {
      "text/plain": [
       "pclass  sex   \n",
       "1       female      3\n",
       "        male       77\n",
       "2       female      6\n",
       "        male       91\n",
       "3       female     72\n",
       "        male      300\n",
       "Name: aclass, dtype: int64"
      ]
     },
     "execution_count": 16,
     "metadata": {},
     "output_type": "execute_result"
    }
   ],
   "source": [
    "dead.groupby(['pclass','sex']).count()['aclass']"
   ]
  },
  {
   "cell_type": "markdown",
   "metadata": {},
   "source": [
    "R4: O fator que fez muito diferença na hora da escolhe de passageiros que irão para os botes salva-vidas é o genero do passageiro e sua classe economica, fez com que muitos perdessem as vidas.\n",
    "Passageiros da 3° classe do genero masculino foram os mais propensos a não estarem nos botes salva-vidas"
   ]
  },
  {
   "cell_type": "markdown",
   "metadata": {},
   "source": [
    "# Conclusão do conjunto de dados Titanic"
   ]
  },
  {
   "cell_type": "markdown",
   "metadata": {},
   "source": [
    "Com base no conjuntos de dados obtido, foram feitas muitas alterações para que houvesse uma boa visualização sem comprometer os dados, se obteve um questionamento a respeito dos dados para criar perguntas com base nas caracteristicas dos passageiros, foi feito uma analise para explorar os dados, modificar, limpar, tranformar e criar colunas de dados que possam facilitar a visualização.\n"
   ]
  },
  {
   "cell_type": "markdown",
   "metadata": {},
   "source": [
    "# Limitações no conjunto de dados Titanic\n",
    "\n",
    "Após a analise do conjunto de dados, houve muitas limitações, como **Ticket** do passageiro,**Cabine** e **Tarifa**, onde nao possa se obter quaisquer informação util com estes dados, utilizando metodos de exploração para criar categoria com estes dados para se obter uma melhor compreensão do conjunto de dados, nao se obteve nenhum resultado, pois estas limitações nao dizem muito a respeito dos passageiros, comparado com o genero, idade, classe economica, entre outros."
   ]
  }
 ],
 "metadata": {
  "kernelspec": {
   "display_name": "Python 3",
   "language": "python",
   "name": "python3"
  },
  "language_info": {
   "codemirror_mode": {
    "name": "ipython",
    "version": 3
   },
   "file_extension": ".py",
   "mimetype": "text/x-python",
   "name": "python",
   "nbconvert_exporter": "python",
   "pygments_lexer": "ipython3",
   "version": "3.6.4"
  }
 },
 "nbformat": 4,
 "nbformat_minor": 2
}
