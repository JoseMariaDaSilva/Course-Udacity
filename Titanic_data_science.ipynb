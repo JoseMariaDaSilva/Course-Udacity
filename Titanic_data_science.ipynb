{
 "cells": [
  {
   "cell_type": "markdown",
   "metadata": {},
   "source": [
    "**Titanic_data.csv** ~>https://www.kaggle.com/c/titanic\n",
    "\n",
    "O data_set é a respeito da tragédia que aconteceu em 15 de abril de 1912, durante uma viagem inaugural.\n",
    "O Titanic afundou após colidir com um iceberg, matando 1502 de 2224 passageiros e tripulantes,o data_set consiste de 891 amostras.\n",
    "    \n",
    "**-----------------PARAMETROS----------------------------------**\n",
    "\n",
    "**Passengerid:** parametros de indexação de cada passageiro.\n",
    "\n",
    "**Surived:** indica se o tripulante sobreviveu, 1=sim 0=não.\n",
    "\n",
    "**Name:** nome do tripulante.\n",
    "\n",
    "**Sex:** genero do passageiro.\n",
    "\n",
    "**Age:** idade do passageiro.\n",
    "\n",
    "**SibSp:** número de irmãos / cônjuges a bordo do titanic.\n",
    "\n",
    "**Parch:** número de pais / filhos a bordo do titanic. Algumas crianças viajaram apenas com uma babá, portanto parch = 0 para elas.\n",
    "\n",
    "**ticket:** ticket do tripulante.\n",
    "\n",
    "**Fare:** tarifa dos passageiros.\n",
    "\n",
    "**Cabin:** cabine onde o passageiro esta alocado.\n",
    "\n",
    "**Embarked:** porto de desembarque do passageiro.\n",
    "\n"
   ]
  },
  {
   "cell_type": "markdown",
   "metadata": {},
   "source": [
    "# Conclusões e informações visuais\n",
    "\n",
    "Tirando conclusões com base nas informações!.\n",
    "\n",
    "**P1:** Quais são as caracteristicas dos passageiros sobrevivente? tem haver com a classe socioeconomica?\n",
    "\n",
    "**P2:** Qual a idade média e sua proporção de crianças e adolescentes que viajaram com babá ou irmãos ?\n",
    "\n",
    "**P3:** O maior fluxo de passageiros da 1° classe se obtem apartir de qual porto de desembarque? E da 3° classe?\n"
   ]
  },
  {
   "cell_type": "markdown",
   "metadata": {},
   "source": [
    "# Importando dados Titanic\n",
    "**importação dos modulos a serem usado e do arquivo_data.csv**"
   ]
  },
  {
   "cell_type": "code",
   "execution_count": 1,
   "metadata": {},
   "outputs": [],
   "source": [
    "import pandas as pd\n",
    "import matplotlib.pyplot as plt\n",
    "%matplotlib inline\n",
    "import numpy as np\n",
    "\n",
    "df_t = pd.read_csv(\"titanic_data.csv\")\n"
   ]
  },
  {
   "cell_type": "markdown",
   "metadata": {},
   "source": [
    "## Exploração dos dados\n",
    "**visualização dos dados para analisar valores a serem tranformados e reparados do data_set**"
   ]
  },
  {
   "cell_type": "code",
   "execution_count": 2,
   "metadata": {
    "scrolled": false
   },
   "outputs": [
    {
     "name": "stdout",
     "output_type": "stream",
     "text": [
      "<class 'pandas.core.frame.DataFrame'>\n",
      "RangeIndex: 891 entries, 0 to 890\n",
      "Data columns (total 12 columns):\n",
      "PassengerId    891 non-null int64\n",
      "Survived       891 non-null int64\n",
      "Pclass         891 non-null int64\n",
      "Name           891 non-null object\n",
      "Sex            891 non-null object\n",
      "Age            714 non-null float64\n",
      "SibSp          891 non-null int64\n",
      "Parch          891 non-null int64\n",
      "Ticket         891 non-null object\n",
      "Fare           891 non-null float64\n",
      "Cabin          204 non-null object\n",
      "Embarked       889 non-null object\n",
      "dtypes: float64(2), int64(5), object(5)\n",
      "memory usage: 83.6+ KB\n"
     ]
    },
    {
     "data": {
      "text/html": [
       "<div>\n",
       "<style scoped>\n",
       "    .dataframe tbody tr th:only-of-type {\n",
       "        vertical-align: middle;\n",
       "    }\n",
       "\n",
       "    .dataframe tbody tr th {\n",
       "        vertical-align: top;\n",
       "    }\n",
       "\n",
       "    .dataframe thead th {\n",
       "        text-align: right;\n",
       "    }\n",
       "</style>\n",
       "<table border=\"1\" class=\"dataframe\">\n",
       "  <thead>\n",
       "    <tr style=\"text-align: right;\">\n",
       "      <th></th>\n",
       "      <th>PassengerId</th>\n",
       "      <th>Survived</th>\n",
       "      <th>Pclass</th>\n",
       "      <th>Name</th>\n",
       "      <th>Sex</th>\n",
       "      <th>Age</th>\n",
       "      <th>SibSp</th>\n",
       "      <th>Parch</th>\n",
       "      <th>Ticket</th>\n",
       "      <th>Fare</th>\n",
       "      <th>Cabin</th>\n",
       "      <th>Embarked</th>\n",
       "    </tr>\n",
       "  </thead>\n",
       "  <tbody>\n",
       "    <tr>\n",
       "      <th>0</th>\n",
       "      <td>1</td>\n",
       "      <td>0</td>\n",
       "      <td>3</td>\n",
       "      <td>Braund, Mr. Owen Harris</td>\n",
       "      <td>male</td>\n",
       "      <td>22.0</td>\n",
       "      <td>1</td>\n",
       "      <td>0</td>\n",
       "      <td>A/5 21171</td>\n",
       "      <td>7.2500</td>\n",
       "      <td>NaN</td>\n",
       "      <td>S</td>\n",
       "    </tr>\n",
       "    <tr>\n",
       "      <th>1</th>\n",
       "      <td>2</td>\n",
       "      <td>1</td>\n",
       "      <td>1</td>\n",
       "      <td>Cumings, Mrs. John Bradley (Florence Briggs Th...</td>\n",
       "      <td>female</td>\n",
       "      <td>38.0</td>\n",
       "      <td>1</td>\n",
       "      <td>0</td>\n",
       "      <td>PC 17599</td>\n",
       "      <td>71.2833</td>\n",
       "      <td>C85</td>\n",
       "      <td>C</td>\n",
       "    </tr>\n",
       "    <tr>\n",
       "      <th>2</th>\n",
       "      <td>3</td>\n",
       "      <td>1</td>\n",
       "      <td>3</td>\n",
       "      <td>Heikkinen, Miss. Laina</td>\n",
       "      <td>female</td>\n",
       "      <td>26.0</td>\n",
       "      <td>0</td>\n",
       "      <td>0</td>\n",
       "      <td>STON/O2. 3101282</td>\n",
       "      <td>7.9250</td>\n",
       "      <td>NaN</td>\n",
       "      <td>S</td>\n",
       "    </tr>\n",
       "    <tr>\n",
       "      <th>3</th>\n",
       "      <td>4</td>\n",
       "      <td>1</td>\n",
       "      <td>1</td>\n",
       "      <td>Futrelle, Mrs. Jacques Heath (Lily May Peel)</td>\n",
       "      <td>female</td>\n",
       "      <td>35.0</td>\n",
       "      <td>1</td>\n",
       "      <td>0</td>\n",
       "      <td>113803</td>\n",
       "      <td>53.1000</td>\n",
       "      <td>C123</td>\n",
       "      <td>S</td>\n",
       "    </tr>\n",
       "    <tr>\n",
       "      <th>4</th>\n",
       "      <td>5</td>\n",
       "      <td>0</td>\n",
       "      <td>3</td>\n",
       "      <td>Allen, Mr. William Henry</td>\n",
       "      <td>male</td>\n",
       "      <td>35.0</td>\n",
       "      <td>0</td>\n",
       "      <td>0</td>\n",
       "      <td>373450</td>\n",
       "      <td>8.0500</td>\n",
       "      <td>NaN</td>\n",
       "      <td>S</td>\n",
       "    </tr>\n",
       "  </tbody>\n",
       "</table>\n",
       "</div>"
      ],
      "text/plain": [
       "   PassengerId  Survived  Pclass  \\\n",
       "0            1         0       3   \n",
       "1            2         1       1   \n",
       "2            3         1       3   \n",
       "3            4         1       1   \n",
       "4            5         0       3   \n",
       "\n",
       "                                                Name     Sex   Age  SibSp  \\\n",
       "0                            Braund, Mr. Owen Harris    male  22.0      1   \n",
       "1  Cumings, Mrs. John Bradley (Florence Briggs Th...  female  38.0      1   \n",
       "2                             Heikkinen, Miss. Laina  female  26.0      0   \n",
       "3       Futrelle, Mrs. Jacques Heath (Lily May Peel)  female  35.0      1   \n",
       "4                           Allen, Mr. William Henry    male  35.0      0   \n",
       "\n",
       "   Parch            Ticket     Fare Cabin Embarked  \n",
       "0      0         A/5 21171   7.2500   NaN        S  \n",
       "1      0          PC 17599  71.2833   C85        C  \n",
       "2      0  STON/O2. 3101282   7.9250   NaN        S  \n",
       "3      0            113803  53.1000  C123        S  \n",
       "4      0            373450   8.0500   NaN        S  "
      ]
     },
     "execution_count": 2,
     "metadata": {},
     "output_type": "execute_result"
    }
   ],
   "source": [
    "df_t.head()\n",
    "df_t.describe()\n",
    "df_t.shape\n",
    "df_t.info()\n",
    "df_t.head()"
   ]
  },
  {
   "cell_type": "markdown",
   "metadata": {},
   "source": [
    "# Configuração para Limpeza dos dados"
   ]
  },
  {
   "cell_type": "code",
   "execution_count": 3,
   "metadata": {
    "scrolled": true
   },
   "outputs": [
    {
     "name": "stdout",
     "output_type": "stream",
     "text": [
      "<class 'pandas.core.frame.DataFrame'>\n",
      "Int64Index: 889 entries, 0 to 890\n",
      "Data columns (total 11 columns):\n",
      "passengerid    889 non-null int64\n",
      "survived       889 non-null int64\n",
      "pclass         889 non-null int64\n",
      "name           889 non-null object\n",
      "sex            889 non-null object\n",
      "age            889 non-null int32\n",
      "sibsp          889 non-null int64\n",
      "parch          889 non-null int64\n",
      "ticket         889 non-null object\n",
      "fare           889 non-null float64\n",
      "embarked       889 non-null object\n",
      "dtypes: float64(1), int32(1), int64(5), object(4)\n",
      "memory usage: 79.9+ KB\n"
     ]
    }
   ],
   "source": [
    "def clean_data(column_remove,column_fill): # Criação da função para limpeza do dataframe\n",
    "    global df_t # coloca o nomo do dataframe no espaço global\n",
    "    new_columns = [df.lower() for df in df_t.columns] # cria uma lista e com as colunas convertida para minusculas\n",
    "    df_t.columns = new_columns # Salva a coluna do dataframe\n",
    "    df_t = df_t.drop(f\"{column_remove}\",axis=1) # Remove a coluna do dataframe\n",
    "    df_age_mean = df_t[f'{column_fill}'].mean() # Calcula a média da coluna\n",
    "    df_t[f'{column_fill}'] = df_t[f'{column_fill}'].fillna(round(df_age_mean)) # Preenche valores \"NaN\" da coluna do dataframe com a média \n",
    "    df_t = df_t.dropna() # Descarta linhas com valores \"NaN\"\n",
    "    df_t[f'{column_fill}'] = df_t[f'{column_fill}'].astype(int) # Converte o tipo da coluna do dataframe\n",
    "    return df_t.info() # retorna as informações do dataframe\n",
    "\n",
    "clean_data(\"cabin\",\"age\") # chamando a função com argumentos para a limpeza dos dados"
   ]
  },
  {
   "cell_type": "code",
   "execution_count": 4,
   "metadata": {},
   "outputs": [
    {
     "name": "stdout",
     "output_type": "stream",
     "text": [
      "<class 'pandas.core.frame.DataFrame'>\n",
      "Int64Index: 889 entries, 7 to 890\n",
      "Data columns (total 12 columns):\n",
      "passengerid    889 non-null int64\n",
      "survived       889 non-null int64\n",
      "pclass         889 non-null int64\n",
      "name           889 non-null object\n",
      "sex            889 non-null object\n",
      "age            889 non-null int32\n",
      "sibsp          889 non-null int64\n",
      "parch          889 non-null int64\n",
      "ticket         889 non-null object\n",
      "fare           889 non-null float64\n",
      "embarked       889 non-null object\n",
      "aclass         889 non-null object\n",
      "dtypes: float64(1), int32(1), int64(5), object(5)\n",
      "memory usage: 86.8+ KB\n"
     ]
    }
   ],
   "source": [
    "def create_column(column_base): # criação da função para criar colunas do dataframe\n",
    "    global df_t # coloca o nomo do dataframe no espaço global\n",
    "    dfa = df_t.query(f'{column_base} > 18').copy() # Cria uma copia do dataframe\n",
    "    dfk = df_t.query(f'{column_base} < 12').copy() # Cria uma copia do dataframe \n",
    "    dft = df_t.query(f'{column_base} >= 12 and {column_base} <= 18').copy() # Cria uma copia do dataframe\n",
    "    dfa.loc[:,'aclass'] = np.repeat('adult',dfa.shape[0]) # Cria uma coluna \"aclass\" com amostras repetidas de \"adult\"\n",
    "    dfk.loc[:,'aclass'] = np.repeat('kid',dfk.shape[0]) # Cria uma coluna \"aclass\" com amostras repetidas de \"adult\"\n",
    "    dft.loc[:,'aclass'] = np.repeat('teen',dft.shape[0]) # Cria uma coluna \"aclass\" com amostras repetidas de \"adult\"\n",
    "    dfs = dfk.append(dft) # junta 2 copias do dataframe e armazena em um objeto\n",
    "    df_t = dfs.append(dfa) # Junta 2 copias do dataframe e armazena em um objeto\n",
    "    return df_t.info() # retorna as informações do dataframe\n",
    "\n",
    "create_column('age')"
   ]
  },
  {
   "cell_type": "markdown",
   "metadata": {},
   "source": [
    "# Configuração para plotagem de graficos"
   ]
  },
  {
   "cell_type": "code",
   "execution_count": 85,
   "metadata": {},
   "outputs": [
    {
     "name": "stdout",
     "output_type": "stream",
     "text": [
      "Survived: 340\n",
      "No survived: 549\n"
     ]
    }
   ],
   "source": [
    "def search_data(what):# Criação de uma função para filtrar dados de acodo com a  condição\n",
    "    global df_t # coloca o nomo do dataframe no espaço global\n",
    "    return df_t.query(f'{what}') # Retorna um dataframe filtrado\n",
    "\n",
    "survive = search_data('survived == 1') # Armazena no objeto survive o dataframe filtrado\n",
    "dead = search_data('survived == 0') # Armazena no objeto dead o dataframe filtrado\n",
    "print(f'Survived: {survive[\"survived\"].sum()}\\nNo survived: {dead[\"survived\"].count()}')\n",
    "\n",
    "def plotti(pit = df_t,kind='hist',column_list=[],x= False,legend=False,ylabel = 'put_ylabel',title='put_title',column_pie=\"pclass\",xlabel='put_xlabel',lab = ['1','2','3']): # Criação da função de plotar graficos\n",
    "    global df_t# coloca o nomo do dataframe no espaço global\n",
    "    \n",
    "    if x == 'mean':\n",
    "        plt.ylabel(f'{ylabel}');# plota o label do eixo y\n",
    "        return pit.groupby(column_list[:1]).mean()[column_list[-1]].plot(kind=f'{kind}',title = f'{title}'); # plota um grafico\n",
    "    \n",
    "    elif x == 'count': # condição para usar uma função de contagem\n",
    "        plt.ylabel(f'{ylabel}');# plota o label do eixo y\n",
    "        return pit.groupby(column_list[:1]).count()[column_list[-1]].plot(kind=f'{kind}',title = f'{title}'); # plota um grafico\n",
    "    \n",
    "    elif x == 'sum':# condição para usar uma função de soma\n",
    "        plt.ylabel(f'{ylabel}');# plota o label do eixo y\n",
    "        return pit.groupby(column_list[:1]).sum()[column_list[-1]].plot(kind=f'{kind}',title = f'{title}');# plota um grafico\n",
    "    \n",
    "    elif x == 'pie':# condição para usar uma função\n",
    "        return pit[f'{column_pie}'].value_counts(normalize='True').plot(kind='pie',autopct='%1.1f%%',labels = lab,title=f'{title}');#plotagem do grafico tipo pizza\n",
    "    \n"
   ]
  },
  {
   "cell_type": "markdown",
   "metadata": {},
   "source": [
    "# Conclusões e informações visuais"
   ]
  },
  {
   "cell_type": "markdown",
   "metadata": {},
   "source": [
    "**P1:** Quais são as caracteristicas dos passageiros sobrevivente?"
   ]
  },
  {
   "cell_type": "code",
   "execution_count": 63,
   "metadata": {},
   "outputs": [
    {
     "data": {
      "text/plain": [
       "sex\n",
       "female    231\n",
       "male      109\n",
       "Name: pclass, dtype: int64"
      ]
     },
     "execution_count": 63,
     "metadata": {},
     "output_type": "execute_result"
    },
    {
     "data": {
      "image/png": "[encoded data removed]",
      "text/plain": [
       "<matplotlib.figure.Figure at 0x29ff19e1b38>"
      ]
     },
     "metadata": {},
     "output_type": "display_data"
    }
   ],
   "source": [
    "#plotti(pit=survive,kind='bar',column_list=['pclass','aclass'],x='count',ylabel='N° Passageiros',title='Passageiros X Classeconomica')\n",
    "plotti(x='pie',pit=survive,column_pie='pclass',lab=['1st class','2st class','3st class'],title='CLass survived percent')\n",
    "plt.legend(loc='upper left')\n",
    "survive.groupby(['sex']).count()['pclass']#FIltragem de classes economica pela faixa etaria, separados pelo genero.\n"
   ]
  },
  {
   "cell_type": "code",
   "execution_count": 57,
   "metadata": {},
   "outputs": [
    {
     "data": {
      "text/plain": [
       "aclass\n",
       "adult    270\n",
       "kid       39\n",
       "teen      31\n",
       "Name: sex, dtype: int64"
      ]
     },
     "execution_count": 57,
     "metadata": {},
     "output_type": "execute_result"
    }
   ],
   "source": [
    "survive.groupby(['aclass']).count()['sex']# separa grupo da classe faixa etaria contando por genero dos passageiros"
   ]
  },
  {
   "cell_type": "code",
   "execution_count": 136,
   "metadata": {},
   "outputs": [
    {
     "data": {
      "text/plain": [
       "sex\n",
       "female    29.0\n",
       "male      28.0\n",
       "Name: age, dtype: float64"
      ]
     },
     "execution_count": 136,
     "metadata": {},
     "output_type": "execute_result"
    }
   ],
   "source": [
    "round(survive.groupby(['sex']).mean()['age'])# arredonda o valor da média de idade por generos"
   ]
  },
  {
   "cell_type": "markdown",
   "metadata": {},
   "source": [
    "R1: Passageiros de classes altas e médias do genero feminino com idade média de 29 anos.\n"
   ]
  },
  {
   "cell_type": "markdown",
   "metadata": {},
   "source": [
    "===================================================================================================="
   ]
  },
  {
   "cell_type": "markdown",
   "metadata": {
    "scrolled": true
   },
   "source": [
    "**P2:** Qual a idade média e sua proporção de crianças e adolescentes que viajaram com babá ou irmãos ?"
   ]
  },
  {
   "cell_type": "code",
   "execution_count": 98,
   "metadata": {},
   "outputs": [
    {
     "data": {
      "text/plain": [
       "<matplotlib.axes._subplots.AxesSubplot at 0x29ff15f6588>"
      ]
     },
     "execution_count": 98,
     "metadata": {},
     "output_type": "execute_result"
    },
    {
     "data": {
      "image/png": "[encoded data removed]",
      "text/plain": [
       "<matplotlib.figure.Figure at 0x29ff16f2080>"
      ]
     },
     "metadata": {},
     "output_type": "display_data"
    }
   ],
   "source": [
    "prop_passenger = search_data('parch == 0 and age < 18')# filtrar passageiros de idade baixa sem a presença dos pais\n",
    "plotti(pit=prop_passenger,kind='bar',column_list =['aclass','age'],x='count',title='Proporção X passageiros',ylabel='N° Passageiros')"
   ]
  },
  {
   "cell_type": "code",
   "execution_count": 107,
   "metadata": {},
   "outputs": [
    {
     "data": {
      "text/plain": [
       "aclass\n",
       "kid      8.0\n",
       "teen    16.0\n",
       "Name: age, dtype: float64"
      ]
     },
     "execution_count": 107,
     "metadata": {},
     "output_type": "execute_result"
    }
   ],
   "source": [
    "round(prop_passenger.groupby(['aclass']).mean()['age'])# criar um grupo com a média de idades por proporção de faixa etaria baixa"
   ]
  },
  {
   "cell_type": "markdown",
   "metadata": {},
   "source": [
    "R2: Passageiros de faixa etaria baixa e média que viajaram sem os pais totalizam 32 com idade média de 8 para crianças e 16 para adolescentes."
   ]
  },
  {
   "cell_type": "markdown",
   "metadata": {},
   "source": [
    "====================================================================================================================="
   ]
  },
  {
   "cell_type": "markdown",
   "metadata": {},
   "source": [
    "**P3:** O maior fluxo de passageiros da 1° classe se obtem apartir de qual porto de desembarque? E da 3° classe?"
   ]
  },
  {
   "cell_type": "code",
   "execution_count": 135,
   "metadata": {},
   "outputs": [
    {
     "data": {
      "text/plain": [
       "Text(0,0.5,'N° Passageiros')"
      ]
     },
     "execution_count": 135,
     "metadata": {},
     "output_type": "execute_result"
    },
    {
     "data": {
      "image/png": "[encoded data removed]",
      "text/plain": [
       "<matplotlib.figure.Figure at 0x29ff3417860>"
      ]
     },
     "metadata": {},
     "output_type": "display_data"
    }
   ],
   "source": [
    "# criar um grupo com o porto de desembarque e a classe economica para serem contados por id(unidade) de passageiros.\n",
    "df_t.groupby(['embarked','pclass']).count()['passengerid'].plot(kind='bar',title='Fluxo de desembarque / Classe economica')\n",
    "plt.ylabel('N° Passageiros')# renomeia o eixo y do grafico"
   ]
  },
  {
   "cell_type": "markdown",
   "metadata": {},
   "source": [
    "R3: O maior fluxo de passageiros da 1° classe se obtem dos portos de Cherbourg(C) e Southampton(S). O maior fluxo de passageiros da 3° classe se obtem no porto de Southampton(S).\n",
    "    "
   ]
  },
  {
   "cell_type": "markdown",
   "metadata": {},
   "source": [
    "================================================================================================================"
   ]
  },
  {
   "cell_type": "markdown",
   "metadata": {},
   "source": [
    "**P4:** Quais são os fatores que muitos passageiros perdessem a vida?"
   ]
  },
  {
   "cell_type": "code",
   "execution_count": 145,
   "metadata": {},
   "outputs": [
    {
     "data": {
      "text/plain": [
       "Text(0,0.5,'N° de passageiros')"
      ]
     },
     "execution_count": 145,
     "metadata": {},
     "output_type": "execute_result"
    },
    {
     "data": {
      "image/png": "[encoded data removed]",
      "text/plain": [
       "<matplotlib.figure.Figure at 0x29ff36de550>"
      ]
     },
     "metadata": {},
     "output_type": "display_data"
    }
   ],
   "source": [
    "dead.groupby(['pclass','sex']).count()['aclass'].plot(kind='bar',title='Relação Nao sobreviventes / class economica');\n",
    "plt.ylabel('N° de passageiros')"
   ]
  },
  {
   "cell_type": "code",
   "execution_count": 149,
   "metadata": {},
   "outputs": [
    {
     "data": {
      "text/plain": [
       "pclass  sex   \n",
       "1       female      3\n",
       "        male       77\n",
       "2       female      6\n",
       "        male       91\n",
       "3       female     72\n",
       "        male      300\n",
       "Name: aclass, dtype: int64"
      ]
     },
     "execution_count": 149,
     "metadata": {},
     "output_type": "execute_result"
    }
   ],
   "source": [
    "dead.groupby(['pclass','sex']).count()['aclass']"
   ]
  },
  {
   "cell_type": "markdown",
   "metadata": {},
   "source": [
    "R4: O fator que fez muito diferença na hora da escolhe de passageiros que irão para os botes salva-vidas é o genero do passageiro e sua classe economica, fez com que muitos perdessem as vidas."
   ]
  },
  {
   "cell_type": "markdown",
   "metadata": {},
   "source": [
    "# Conclusão do conjunto de dados Titanic"
   ]
  },
  {
   "cell_type": "markdown",
   "metadata": {},
   "source": [
    "Com base no conjuntos de dados obtido, foram feitas muitas alterações para que houvesse uma boa visualização sem comprometer os dados, se obteve um questionamento a respeito dos dados para criar perguntas com base nas caracteristicas dos passageiros, foi feito uma analise para explorar os dados, modificar, limpar, tranformar e criar colunas de dados que possam facilitar a visualização.\n",
    "\n",
    "Após a analise do conjunto de dados, houve muitas limitações, como **Ticket** do passageiro,**Cabine** e **Tarifa**, onde nao possa se obter quaisquer informação util com estes dados, utilizando metodos de exploração para criar categoria com estes dados para se obter uma melhor compreensão do conjunto de dados, nao se obteve nenhum resultado, pois estas limitações nao dizem muito a respeito dos passageiros, comparado com o genero, idade, classe economica, entre outros.\n"
   ]
  }
 ],
 "metadata": {
  "kernelspec": {
   "display_name": "Python 3",
   "language": "python",
   "name": "python3"
  },
  "language_info": {
   "codemirror_mode": {
    "name": "ipython",
    "version": 3
   },
   "file_extension": ".py",
   "mimetype": "text/x-python",
   "name": "python",
   "nbconvert_exporter": "python",
   "pygments_lexer": "ipython3",
   "version": "3.6.4"
  }
 },
 "nbformat": 4,
 "nbformat_minor": 2
}
