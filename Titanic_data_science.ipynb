{
 "cells": [
  {
   "cell_type": "markdown",
   "metadata": {},
   "source": [
    "# Importando dados Titanic\n",
    "importação dos modulos a serem usado e do arquivo_data.csv: https://www.kaggle.com/c/titanic/data"
   ]
  },
  {
   "cell_type": "code",
   "execution_count": 16,
   "metadata": {},
   "outputs": [],
   "source": [
    "import pandas as pd\n",
    "import matplotlib.pyplot as plt\n",
    "%matplotlib inline\n",
    "import numpy as np\n",
    "\n",
    "df_t = pd.read_csv(\"titanic_data.csv\")\n"
   ]
  },
  {
   "cell_type": "markdown",
   "metadata": {},
   "source": [
    "## visualização dos dados\n",
    "visualização dos dados para analisar valores a serem tranformados e reparados do data_set"
   ]
  },
  {
   "cell_type": "code",
   "execution_count": 17,
   "metadata": {},
   "outputs": [
    {
     "name": "stdout",
     "output_type": "stream",
     "text": [
      "<class 'pandas.core.frame.DataFrame'>\n",
      "RangeIndex: 891 entries, 0 to 890\n",
      "Data columns (total 12 columns):\n",
      "PassengerId    891 non-null int64\n",
      "Survived       891 non-null int64\n",
      "Pclass         891 non-null int64\n",
      "Name           891 non-null object\n",
      "Sex            891 non-null object\n",
      "Age            714 non-null float64\n",
      "SibSp          891 non-null int64\n",
      "Parch          891 non-null int64\n",
      "Ticket         891 non-null object\n",
      "Fare           891 non-null float64\n",
      "Cabin          204 non-null object\n",
      "Embarked       889 non-null object\n",
      "dtypes: float64(2), int64(5), object(5)\n",
      "memory usage: 83.6+ KB\n"
     ]
    }
   ],
   "source": [
    "df_t.head()\n",
    "df_t.describe()\n",
    "df_t.shape\n",
    "df_t.info()\n"
   ]
  },
  {
   "cell_type": "markdown",
   "metadata": {},
   "source": [
    "# Manipulação dos dados\n",
    "descarte da coluna \"cabin\" onde contem um numero alto de valores faltantes e convertendo as colunas para formato minusculo"
   ]
  },
  {
   "cell_type": "code",
   "execution_count": 18,
   "metadata": {
    "scrolled": true
   },
   "outputs": [
    {
     "name": "stdout",
     "output_type": "stream",
     "text": [
      "<class 'pandas.core.frame.DataFrame'>\n",
      "RangeIndex: 891 entries, 0 to 890\n",
      "Data columns (total 11 columns):\n",
      "passengerid    891 non-null int64\n",
      "survived       891 non-null int64\n",
      "pclass         891 non-null int64\n",
      "name           891 non-null object\n",
      "sex            891 non-null object\n",
      "age            714 non-null float64\n",
      "sibsp          891 non-null int64\n",
      "parch          891 non-null int64\n",
      "ticket         891 non-null object\n",
      "fare           891 non-null float64\n",
      "embarked       889 non-null object\n",
      "dtypes: float64(2), int64(5), object(4)\n",
      "memory usage: 76.6+ KB\n"
     ]
    }
   ],
   "source": [
    "df_t = df_t.drop(\"Cabin\",axis=1)\n",
    "df_t.head()\n",
    "new_columns = [df.lower() for df in df_t.columns]\n",
    "df_t.columns = new_columns\n",
    "df_t.info()"
   ]
  },
  {
   "cell_type": "markdown",
   "metadata": {},
   "source": [
    "# Preenchendo linhas com valores NaN\n",
    "preenchimentos de valores NaN na coluna \"Age\", com a média geral de \"Age\""
   ]
  },
  {
   "cell_type": "code",
   "execution_count": 19,
   "metadata": {},
   "outputs": [
    {
     "name": "stdout",
     "output_type": "stream",
     "text": [
      "<class 'pandas.core.frame.DataFrame'>\n",
      "RangeIndex: 891 entries, 0 to 890\n",
      "Data columns (total 11 columns):\n",
      "passengerid    891 non-null int64\n",
      "survived       891 non-null int64\n",
      "pclass         891 non-null int64\n",
      "name           891 non-null object\n",
      "sex            891 non-null object\n",
      "age            891 non-null float64\n",
      "sibsp          891 non-null int64\n",
      "parch          891 non-null int64\n",
      "ticket         891 non-null object\n",
      "fare           891 non-null float64\n",
      "embarked       889 non-null object\n",
      "dtypes: float64(2), int64(5), object(4)\n",
      "memory usage: 76.6+ KB\n"
     ]
    }
   ],
   "source": [
    "df_age_mean = df_t['age'].mean()\n",
    "df_t['age'] = df_t['age'].fillna(round(df_age_mean))\n",
    "df_t.isnull().any()\n",
    "df_t.info()"
   ]
  },
  {
   "cell_type": "markdown",
   "metadata": {},
   "source": [
    "# Removendo linhas com NaN valores\n",
    "remoção das linhas da coluna \"Embarked\", por motivos onde só há dois valores faltante e que nao sao de importancia."
   ]
  },
  {
   "cell_type": "code",
   "execution_count": 20,
   "metadata": {},
   "outputs": [
    {
     "name": "stdout",
     "output_type": "stream",
     "text": [
      "<class 'pandas.core.frame.DataFrame'>\n",
      "Int64Index: 889 entries, 0 to 890\n",
      "Data columns (total 11 columns):\n",
      "passengerid    889 non-null int64\n",
      "survived       889 non-null int64\n",
      "pclass         889 non-null int64\n",
      "name           889 non-null object\n",
      "sex            889 non-null object\n",
      "age            889 non-null int32\n",
      "sibsp          889 non-null int64\n",
      "parch          889 non-null int64\n",
      "ticket         889 non-null object\n",
      "fare           889 non-null float64\n",
      "embarked       889 non-null object\n",
      "dtypes: float64(1), int32(1), int64(5), object(4)\n",
      "memory usage: 79.9+ KB\n"
     ]
    }
   ],
   "source": [
    "df_t = df_t.dropna()\n",
    "df_t['age'] = df_t['age'].astype(int)\n",
    "df_t.info()"
   ]
  },
  {
   "cell_type": "markdown",
   "metadata": {},
   "source": [
    "# Criando uma coluna\n",
    "classificação da idade faixa etaria 'aclass' onde define a faixa etaria pela idade"
   ]
  },
  {
   "cell_type": "code",
   "execution_count": 21,
   "metadata": {},
   "outputs": [
    {
     "name": "stdout",
     "output_type": "stream",
     "text": [
      "<class 'pandas.core.frame.DataFrame'>\n",
      "Int64Index: 889 entries, 7 to 890\n",
      "Data columns (total 12 columns):\n",
      "passengerid    889 non-null int64\n",
      "survived       889 non-null int64\n",
      "pclass         889 non-null int64\n",
      "name           889 non-null object\n",
      "sex            889 non-null object\n",
      "age            889 non-null int32\n",
      "sibsp          889 non-null int64\n",
      "parch          889 non-null int64\n",
      "ticket         889 non-null object\n",
      "fare           889 non-null float64\n",
      "embarked       889 non-null object\n",
      "aclass         889 non-null object\n",
      "dtypes: float64(1), int32(1), int64(5), object(5)\n",
      "memory usage: 86.8+ KB\n"
     ]
    }
   ],
   "source": [
    "dfa = df_t.query('age > 18').copy()\n",
    "dfk = df_t.query('age < 12').copy()\n",
    "dft = df_t.query('age >= 12 and age <= 18').copy()\n",
    "dfa.loc[:,'aclass'] = np.repeat('adult',dfa.shape[0])\n",
    "dfk.loc[:,'aclass'] = np.repeat('kid',dfk.shape[0])\n",
    "dft.loc[:,'aclass'] = np.repeat('teen',dft.shape[0])\n",
    "dfs = dfk.append(dft)\n",
    "df_t = dfs.append(dfa)\n",
    "df_t.info()"
   ]
  },
  {
   "cell_type": "markdown",
   "metadata": {},
   "source": [
    "# Perguntas a respeito do dataframe\n",
    "P1: Qual foi o numero de sobreviventes e nao sobreviventes, sua Pclass(status socioeconômico), e idade faixa etaria ? "
   ]
  },
  {
   "cell_type": "code",
   "execution_count": 22,
   "metadata": {},
   "outputs": [
    {
     "name": "stdout",
     "output_type": "stream",
     "text": [
      "Survived: 340\n",
      "No Survived: 549\n"
     ]
    }
   ],
   "source": [
    "survive_n = df_t.query('survived == 1')\n",
    "dead_n = df_t.query('survived == 0')\n",
    "print(\"Survived: {}\\nNo Survived: {}\".format(survive_n['survived'].count(),dead_n['survived'].count()))\n"
   ]
  },
  {
   "cell_type": "code",
   "execution_count": 23,
   "metadata": {},
   "outputs": [
    {
     "data": {
      "image/png": "[encoded data removed]",
      "text/plain": [
       "<Figure size 432x288 with 1 Axes>"
      ]
     },
     "metadata": {},
     "output_type": "display_data"
    }
   ],
   "source": [
    "s_c = survive_n.groupby(['pclass','survived']).count()['name']\n",
    "d_c = dead_n.groupby(['pclass','survived']).count()['name']\n",
    "\n",
    "plt.title('Survived/Class')\n",
    "sample_s = [s_c[0],s_c[1],s_c[2]]\n",
    "labels_s = [\"1st class\",\"2st class\",\"3st class\"]\n",
    "plt.bar(labels_s,sample_s);\n",
    "plt.xlabel(\"Class_economic\")\n",
    "plt.ylabel(\"Survived\")\n",
    "\n",
    "labels = ['1st class','2st class','3st class']\n",
    "\n",
    "surv = ['Survived','No Survived']\n",
    "sample_s = [d_c[0],d_c[1],d_c[2]]\n",
    "labels_s = [\"1st class\",\"2st class\",\"3st class\"]\n",
    "plt.bar(labels_s,sample_s);\n",
    "\n",
    "plt.legend(surv);"
   ]
  },
  {
   "cell_type": "code",
   "execution_count": 24,
   "metadata": {},
   "outputs": [
    {
     "data": {
      "image/png": "[encoded data removed]",
      "text/plain": [
       "<Figure size 432x288 with 1 Axes>"
      ]
     },
     "metadata": {},
     "output_type": "display_data"
    },
    {
     "data": {
      "image/png": "[encoded data removed]",
      "text/plain": [
       "<Figure size 432x288 with 1 Axes>"
      ]
     },
     "metadata": {},
     "output_type": "display_data"
    }
   ],
   "source": [
    "survive_n.plot(kind='scatter',x = 'age',y='pclass',title= \"Survived\");\n",
    "dead_n.plot(kind='scatter',x='age',y ='pclass',title='No Survived');\n"
   ]
  },
  {
   "cell_type": "code",
   "execution_count": 25,
   "metadata": {},
   "outputs": [
    {
     "data": {
      "text/plain": [
       "<matplotlib.axes._subplots.AxesSubplot at 0x1bee3d65518>"
      ]
     },
     "execution_count": 25,
     "metadata": {},
     "output_type": "execute_result"
    },
    {
     "data": {
      "image/png": "[encoded data removed]",
      "text/plain": [
       "<Figure size 432x288 with 1 Axes>"
      ]
     },
     "metadata": {},
     "output_type": "display_data"
    }
   ],
   "source": [
    "df_t.groupby(['aclass','survived',]).sum()['pclass'].plot(kind='bar')"
   ]
  },
  {
   "cell_type": "markdown",
   "metadata": {},
   "source": [
    "# .\n",
    "P2: Qual porto houve mais desembarque classificado por idade media e genero dos tripulantes ?"
   ]
  },
  {
   "cell_type": "code",
   "execution_count": 26,
   "metadata": {
    "scrolled": true
   },
   "outputs": [
    {
     "data": {
      "text/plain": [
       "Text(0,0.5,'Age_Mean')"
      ]
     },
     "execution_count": 26,
     "metadata": {},
     "output_type": "execute_result"
    },
    {
     "data": {
      "image/png": "[encoded data removed]",
      "text/plain": [
       "<Figure size 432x288 with 1 Axes>"
      ]
     },
     "metadata": {},
     "output_type": "display_data"
    }
   ],
   "source": [
    "kid = df_t.query('age < 18')['embarked']\n",
    "kid.shape\n",
    "adult = df_t.query('age >= 18')['embarked']\n",
    "adult.shape\n",
    "\n",
    "df_t.groupby(['embarked','sex']).mean()['age'].plot(kind='bar')\n",
    "plt.ylabel('Age_Mean')"
   ]
  },
  {
   "cell_type": "markdown",
   "metadata": {},
   "source": [
    "# .\n",
    "P3: Qual o nome do tripulante que perdeu mais familiares no navio ?"
   ]
  },
  {
   "cell_type": "code",
   "execution_count": 27,
   "metadata": {},
   "outputs": [
    {
     "name": "stdout",
     "output_type": "stream",
     "text": [
      "O nome do tripulante se chama: West, Mr. Edwy Arthur\n",
      "Total de familiares mortos: 14\n"
     ]
    }
   ],
   "source": [
    "df_search = df_t.query('sibsp > 0 and parch > 0 and survived == 0').max()\n",
    "print('O nome do tripulante se chama: {}\\nTotal de familiares mortos: {}'.format(df_search['name'],(df_search['sibsp']+df_search['parch'])))\n"
   ]
  },
  {
   "cell_type": "markdown",
   "metadata": {},
   "source": [
    "# .\n",
    "P4: Quais foram os fatores que fizeram com que algumas pessoas fossem mais propensas a sobreviver?"
   ]
  },
  {
   "cell_type": "code",
   "execution_count": 33,
   "metadata": {},
   "outputs": [
    {
     "name": "stdout",
     "output_type": "stream",
     "text": [
      "\n",
      "Quantidade de pessoas desesperada pela sobrevivencia, do sexo masculino da terceira class.\n"
     ]
    },
    {
     "data": {
      "image/png": "[encoded data removed]",
      "text/plain": [
       "<Figure size 432x288 with 1 Axes>"
      ]
     },
     "metadata": {},
     "output_type": "display_data"
    }
   ],
   "source": [
    "df_t.groupby(['sex','aclass','pclass']).count()['survived'].plot(kind='bar')\n",
    "print('')\n",
    "print('Quantidade de pessoas desesperada pela sobrevivencia, do sexo masculino da terceira class.')\n"
   ]
  }
 ],
 "metadata": {
  "kernelspec": {
   "display_name": "Python 3",
   "language": "python",
   "name": "python3"
  },
  "language_info": {
   "codemirror_mode": {
    "name": "ipython",
    "version": 3
   },
   "file_extension": ".py",
   "mimetype": "text/x-python",
   "name": "python",
   "nbconvert_exporter": "python",
   "pygments_lexer": "ipython3",
   "version": "3.6.5"
  }
 },
 "nbformat": 4,
 "nbformat_minor": 2
}
